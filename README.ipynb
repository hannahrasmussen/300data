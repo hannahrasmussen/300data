{
 "cells": [
  {
   "cell_type": "markdown",
   "id": "cd6229d6",
   "metadata": {},
   "source": [
    "## README for results file of sterile neutrino model with $m_s = 300$ MeV "
   ]
  },
  {
   "cell_type": "markdown",
   "id": "bf41aeb1",
   "metadata": {},
   "source": [
    "The three arrays within ``300data_final.npz`` include the independent variable array of lifetimes, an array of the respective dilution factors for these lifetimes, and an array of the respective N-effective values for these lifetimes. The results can be accessed in a separate folder with the following code: \n",
    "\n",
    "    results = np.load(\"/Users/hannahrasmussen/Work/Most_recent_code/300data/300data/300data_final.npz\")\n",
    "    lifetime_array = results['lifetime']\n",
    "    dil_array = results['Dilution_Factor']\n",
    "    N_eff_array = results['N_eff']"
   ]
  },
  {
   "cell_type": "code",
   "execution_count": null,
   "id": "671f4700",
   "metadata": {},
   "outputs": [],
   "source": []
  }
 ],
 "metadata": {
  "kernelspec": {
   "display_name": "Python 3",
   "language": "python",
   "name": "python3"
  },
  "language_info": {
   "codemirror_mode": {
    "name": "ipython",
    "version": 3
   },
   "file_extension": ".py",
   "mimetype": "text/x-python",
   "name": "python",
   "nbconvert_exporter": "python",
   "pygments_lexer": "ipython3",
   "version": "3.8.8"
  }
 },
 "nbformat": 4,
 "nbformat_minor": 5
}
